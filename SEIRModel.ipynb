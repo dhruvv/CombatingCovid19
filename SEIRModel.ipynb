{
  "nbformat": 4,
  "nbformat_minor": 0,
  "metadata": {
    "colab": {
      "name": "SEIRModel.ipynb",
      "provenance": [],
      "collapsed_sections": [],
      "authorship_tag": "ABX9TyMlSz8mbXQ5FAHHGFRL4b1B",
      "include_colab_link": true
    },
    "kernelspec": {
      "name": "python3",
      "display_name": "Python 3"
    }
  },
  "cells": [
    {
      "cell_type": "markdown",
      "metadata": {
        "id": "view-in-github",
        "colab_type": "text"
      },
      "source": [
        "<a href=\"https://colab.research.google.com/github/dhruvv/CombatingCovid19/blob/master/SEIRModel.ipynb\" target=\"_parent\"><img src=\"https://colab.research.google.com/assets/colab-badge.svg\" alt=\"Open In Colab\"/></a>"
      ]
    },
    {
      "cell_type": "markdown",
      "metadata": {
        "id": "zJxBavIyFCw2",
        "colab_type": "text"
      },
      "source": [
        "First Let us import all the necessary libraries required for the SEIRS Model"
      ]
    },
    {
      "cell_type": "code",
      "metadata": {
        "id": "vSCb4kn8DIcK",
        "colab_type": "code",
        "colab": {
          "base_uri": "https://localhost:8080/",
          "height": 238
        },
        "outputId": "ab657dc7-5a78-456c-c692-48a728d30033"
      },
      "source": [
        "!pip3 install seirsplus\n",
        "from seirsplus.models import *\n",
        "import networkx\n",
        "import numpy as np\n",
        "import  requests\n",
        "import json\n",
        "import os \n",
        "import pickle"
      ],
      "execution_count": 2,
      "outputs": [
        {
          "output_type": "stream",
          "text": [
            "Collecting seirsplus\n",
            "  Downloading https://files.pythonhosted.org/packages/8c/50/cf7f5c9f635e58201ff75755e9b49dce11bc40bc9c3c5e39177cb6e10ad0/seirsplus-0.1.3.tar.gz\n",
            "Requirement already satisfied: numpy in /usr/local/lib/python3.6/dist-packages (from seirsplus) (1.18.3)\n",
            "Requirement already satisfied: scipy in /usr/local/lib/python3.6/dist-packages (from seirsplus) (1.4.1)\n",
            "Requirement already satisfied: networkx in /usr/local/lib/python3.6/dist-packages (from seirsplus) (2.4)\n",
            "Requirement already satisfied: decorator>=4.3.0 in /usr/local/lib/python3.6/dist-packages (from networkx->seirsplus) (4.4.2)\n",
            "Building wheels for collected packages: seirsplus\n",
            "  Building wheel for seirsplus (setup.py) ... \u001b[?25l\u001b[?25hdone\n",
            "  Created wheel for seirsplus: filename=seirsplus-0.1.3-cp36-none-any.whl size=25918 sha256=f92f9309d449433bf8635155bd3d2690188cdc1bf0534c504e3203c2fa2a6229\n",
            "  Stored in directory: /root/.cache/pip/wheels/b3/5d/1a/e98ff78c021675bfe1c6ba884de30ae86c3403d851b4d118cf\n",
            "Successfully built seirsplus\n",
            "Installing collected packages: seirsplus\n",
            "Successfully installed seirsplus-0.1.3\n"
          ],
          "name": "stdout"
        }
      ]
    },
    {
      "cell_type": "markdown",
      "metadata": {
        "id": "uK2JGMacFNOr",
        "colab_type": "text"
      },
      "source": [
        "Now Let us define the various arrays"
      ]
    },
    {
      "cell_type": "code",
      "metadata": {
        "id": "jCRkBhtOFR5R",
        "colab_type": "code",
        "colab": {}
      },
      "source": [
        "dname = np.array([])\n",
        "attr_files = np.array([])\n",
        "pickle_files = np.array([])"
      ],
      "execution_count": 0,
      "outputs": []
    },
    {
      "cell_type": "markdown",
      "metadata": {
        "id": "1kMI0m0_FdOz",
        "colab_type": "text"
      },
      "source": [
        "Now Let us get all out files in place"
      ]
    },
    {
      "cell_type": "code",
      "metadata": {
        "id": "zCDSAYXlFljx",
        "colab_type": "code",
        "colab": {}
      },
      "source": [
        ""
      ],
      "execution_count": 0,
      "outputs": []
    }
  ]
}